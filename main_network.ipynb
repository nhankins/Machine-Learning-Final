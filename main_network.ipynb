{
 "cells": [
  {
   "cell_type": "code",
   "execution_count": 9,
   "metadata": {},
   "outputs": [],
   "source": [
    "import matplotlib.pyplot as plt\n",
    "import numpy as np\n",
    "from numpy import load\n",
    "import os\n",
    "import PIL\n",
    "import tensorflow as tf\n",
    "import pandas as pd\n",
    "\n",
    "from tensorflow import keras\n",
    "from keras import layers, datasets, models\n",
    "from keras.models import Sequential\n",
    "\n",
    "import pickle\n",
    "from PIL import Image"
   ]
  },
  {
   "cell_type": "code",
   "execution_count": 2,
   "metadata": {},
   "outputs": [
    {
     "name": "stderr",
     "output_type": "stream",
     "text": [
      "/Users/nickhankins/miniforge3/envs/tensorflow/lib/python3.8/site-packages/numpy/lib/npyio.py:719: VisibleDeprecationWarning: Creating an ndarray from ragged nested sequences (which is a list-or-tuple of lists-or-tuples-or ndarrays with different lengths or shapes) is deprecated. If you meant to do this, you must specify 'dtype=object' when creating the ndarray.\n",
      "  val = np.asanyarray(val)\n"
     ]
    }
   ],
   "source": [
    "#Loading data from .npz files\n",
    "\n",
    "a1 = np.load('kmnist-train-imgs.npz')['arr_0']\n",
    "a2 = np.load('kmnist-train-labels.npz')['arr_0']\n",
    "a3 = np.load('kmnist-test-imgs.npz')['arr_0']\n",
    "a4 = np.load('kmnist-test-labels.npz')['arr_0']\n",
    "\n",
    "merged_dataset = [a1,a2,a3,a4]\n",
    "#np.savez('output_dataset.npz',merged_dataset)\n"
   ]
  },
  {
   "cell_type": "code",
   "execution_count": 16,
   "metadata": {},
   "outputs": [
    {
     "name": "stdout",
     "output_type": "stream",
     "text": [
      "X_train: (60000, 28, 28)\n",
      "Y_train: (60000,)\n",
      "X_test:  (10000, 28, 28)\n",
      "Y_test:  (10000,)\n"
     ]
    }
   ],
   "source": [
    "##Splitting the data\n",
    "\n",
    "train_imgs, train_labels, test_imgs, test_labels = merged_dataset\n",
    "\n",
    "#Test array shapes with print statements below\n",
    "print('X_train: ' + str(train_imgs.shape))\n",
    "print('Y_train: ' + str(train_labels.shape))\n",
    "print('X_test:  '  + str(test_imgs.shape))\n",
    "print('Y_test:  '  + str(test_labels.shape))\n",
    "\n",
    "##Normalizing the data\n",
    "train_imgs = train_imgs.astype('float32')\n",
    "test_imgs = test_imgs.astype('float32')\n",
    "train_imgs, test_imgs = train_imgs / 255.0, test_imgs / 255.0\n",
    "\n",
    "train_labels = tf.keras.utils.to_categorical(train_labels, num_classes=10)\n",
    "test_labels = keras.utils.to_categorical(test_labels, num_classes=10)\n"
   ]
  },
  {
   "cell_type": "code",
   "execution_count": 20,
   "metadata": {},
   "outputs": [],
   "source": [
    "#Creating input dimension and initial layers\n",
    "\n",
    "img_rows, img_cols = 28, 28\n",
    "\n",
    "train_imgs = train_imgs.reshape(train_imgs.shape[0], img_rows, img_cols, 1)\n",
    "test_imgs = test_imgs.reshape(test_imgs.shape[0], img_rows, img_cols, 1)\n",
    "input_shape = (img_rows, img_cols, 1)\n",
    "\n",
    "classes = [\"お\", \"き\", \"す\", \"つ\", \"な\", \"は\", \"ま\", \"や\", \"れ\", \"を\"]\n",
    "\n",
    "model = models.Sequential()\n",
    "model.add(layers.Conv2D(32, 3, activation='relu',input_shape=input_shape))\n",
    "model.add(layers.Dense(10, activation='relu'))\n",
    "model.add(layers.MaxPooling2D(pool_size=(2, 2)))\n"
   ]
  },
  {
   "cell_type": "code",
   "execution_count": 21,
   "metadata": {},
   "outputs": [
    {
     "name": "stdout",
     "output_type": "stream",
     "text": [
      "Model: \"sequential_4\"\n",
      "_________________________________________________________________\n",
      " Layer (type)                Output Shape              Param #   \n",
      "=================================================================\n",
      " conv2d_6 (Conv2D)           (None, 26, 26, 32)        320       \n",
      "                                                                 \n",
      " dense_3 (Dense)             (None, 26, 26, 10)        330       \n",
      "                                                                 \n",
      " max_pooling2d_3 (MaxPooling  (None, 13, 13, 10)       0         \n",
      " 2D)                                                             \n",
      "                                                                 \n",
      "=================================================================\n",
      "Total params: 650\n",
      "Trainable params: 650\n",
      "Non-trainable params: 0\n",
      "_________________________________________________________________\n"
     ]
    }
   ],
   "source": [
    "model.summary()"
   ]
  },
  {
   "cell_type": "code",
   "execution_count": 22,
   "metadata": {},
   "outputs": [],
   "source": [
    "model.add(layers.Flatten())\n",
    "model.add(layers.Dense(64, activation='relu'))\n",
    "model.add(layers.Dense(10))\n",
    "model.add(layers.Dense(10, activation='softmax'))"
   ]
  },
  {
   "cell_type": "code",
   "execution_count": 23,
   "metadata": {},
   "outputs": [
    {
     "name": "stdout",
     "output_type": "stream",
     "text": [
      "Model: \"sequential_4\"\n",
      "_________________________________________________________________\n",
      " Layer (type)                Output Shape              Param #   \n",
      "=================================================================\n",
      " conv2d_6 (Conv2D)           (None, 26, 26, 32)        320       \n",
      "                                                                 \n",
      " dense_3 (Dense)             (None, 26, 26, 10)        330       \n",
      "                                                                 \n",
      " max_pooling2d_3 (MaxPooling  (None, 13, 13, 10)       0         \n",
      " 2D)                                                             \n",
      "                                                                 \n",
      " flatten_1 (Flatten)         (None, 1690)              0         \n",
      "                                                                 \n",
      " dense_4 (Dense)             (None, 64)                108224    \n",
      "                                                                 \n",
      " dense_5 (Dense)             (None, 10)                650       \n",
      "                                                                 \n",
      " dense_6 (Dense)             (None, 10)                110       \n",
      "                                                                 \n",
      "=================================================================\n",
      "Total params: 109,634\n",
      "Trainable params: 109,634\n",
      "Non-trainable params: 0\n",
      "_________________________________________________________________\n"
     ]
    }
   ],
   "source": [
    "model.summary()"
   ]
  },
  {
   "cell_type": "code",
   "execution_count": 25,
   "metadata": {},
   "outputs": [
    {
     "name": "stdout",
     "output_type": "stream",
     "text": [
      "Epoch 1/2\n"
     ]
    },
    {
     "name": "stderr",
     "output_type": "stream",
     "text": [
      "2022-04-04 10:00:00.160111: I tensorflow/core/grappler/optimizers/custom_graph_optimizer_registry.cc:113] Plugin optimizer for device_type GPU is enabled.\n"
     ]
    },
    {
     "name": "stdout",
     "output_type": "stream",
     "text": [
      "1874/1875 [============================>.] - ETA: 0s - loss: 0.3520 - accuracy: 0.8930"
     ]
    },
    {
     "name": "stderr",
     "output_type": "stream",
     "text": [
      "2022-04-04 10:00:18.993980: I tensorflow/core/grappler/optimizers/custom_graph_optimizer_registry.cc:113] Plugin optimizer for device_type GPU is enabled.\n"
     ]
    },
    {
     "name": "stdout",
     "output_type": "stream",
     "text": [
      "1875/1875 [==============================] - 22s 11ms/step - loss: 0.3519 - accuracy: 0.8930 - val_loss: 0.4158 - val_accuracy: 0.8780\n",
      "Epoch 2/2\n",
      "1875/1875 [==============================] - 20s 11ms/step - loss: 0.1238 - accuracy: 0.9629 - val_loss: 0.3231 - val_accuracy: 0.9060\n"
     ]
    }
   ],
   "source": [
    "model.compile(optimizer='adam',\n",
    "              loss=tf.keras.losses.categorical_crossentropy,\n",
    "              metrics=['accuracy'])\n",
    "\n",
    "history = model.fit(train_imgs, train_labels, epochs=2, \n",
    "                    validation_data=(test_imgs, test_labels))"
   ]
  },
  {
   "cell_type": "code",
   "execution_count": 27,
   "metadata": {},
   "outputs": [
    {
     "name": "stdout",
     "output_type": "stream",
     "text": [
      "313/313 - 2s - loss: 0.3231 - accuracy: 0.9060 - 2s/epoch - 7ms/step\n"
     ]
    },
    {
     "data": {
      "image/png": "[encoded data removed]",
      "text/plain": [
       "<Figure size 432x288 with 1 Axes>"
      ]
     },
     "metadata": {
      "needs_background": "light"
     },
     "output_type": "display_data"
    }
   ],
   "source": [
    "plt.plot(history.history['accuracy'], label='accuracy')\n",
    "plt.plot(history.history['val_accuracy'], label = 'val_accuracy')\n",
    "plt.xlabel('Epoch')\n",
    "plt.ylabel('Accuracy')\n",
    "plt.ylim([0.5, 1])\n",
    "plt.legend(loc='lower right')\n",
    "\n",
    "test_loss, test_acc = model.evaluate(test_imgs, test_labels, verbose=2)"
   ]
  },
  {
   "cell_type": "code",
   "execution_count": 4,
   "metadata": {},
   "outputs": [
    {
     "name": "stdout",
     "output_type": "stream",
     "text": [
      "X_train: (232365, 28, 28)\n",
      "Y_train: (232365,)\n",
      "X_test:  (38547, 28, 28)\n",
      "Y_test:  (38547,)\n"
     ]
    }
   ],
   "source": [
    "b1 = np.load('k49-train-imgs.npz')['arr_0']\n",
    "b2 = np.load('k49-train-labels.npz')['arr_0']\n",
    "b3 = np.load('k49-test-imgs.npz')['arr_0']\n",
    "b4 = np.load('k49-test-labels.npz')['arr_0']\n",
    "\n",
    "merged_dataset_1 = [b1,b2,b3,b4]\n",
    "\n",
    "train_imgs_1, train_labels_1, test_imgs_1, test_labels_1 = merged_dataset_1\n",
    "\n",
    "#Test array shapes with print statements below\n",
    "print('X_train: ' + str(train_imgs_1.shape))\n",
    "print('Y_train: ' + str(train_labels_1.shape))\n",
    "print('X_test:  '  + str(test_imgs_1.shape))\n",
    "print('Y_test:  '  + str(test_labels_1.shape))\n",
    "\n"
   ]
  },
  {
   "cell_type": "code",
   "execution_count": 6,
   "metadata": {},
   "outputs": [],
   "source": [
    "##Normalizing the data\n",
    "train_imgs_1 = train_imgs_1.astype('float32')\n",
    "test_imgs_1 = test_imgs_1.astype('float32')\n",
    "train_imgs_1, test_imgs_1 = train_imgs_1 / 255.0, test_imgs_1 / 255.0\n",
    "\n",
    "train_labels_1 = tf.keras.utils.to_categorical(train_labels_1, num_classes=49)\n",
    "test_labels_1 = keras.utils.to_categorical(test_labels_1, num_classes=49)\n",
    "\n",
    "#Shaping the data\n",
    "\n",
    "img_rows, img_cols = 28, 28\n",
    "\n",
    "train_imgs_1 = train_imgs_1.reshape(train_imgs_1.shape[0], img_rows, img_cols, 1)\n",
    "test_imgs_1 = test_imgs_1.reshape(test_imgs_1.shape[0], img_rows, img_cols, 1)\n",
    "input_shape = (img_rows, img_cols, 1)"
   ]
  },
  {
   "cell_type": "code",
   "execution_count": 5,
   "metadata": {},
   "outputs": [
    {
     "name": "stdout",
     "output_type": "stream",
     "text": [
      "Metal device set to: Apple M1 Pro\n",
      "\n",
      "systemMemory: 16.00 GB\n",
      "maxCacheSize: 5.33 GB\n",
      "\n"
     ]
    },
    {
     "name": "stderr",
     "output_type": "stream",
     "text": [
      "2022-04-20 17:37:03.408418: I tensorflow/core/common_runtime/pluggable_device/pluggable_device_factory.cc:305] Could not identify NUMA node of platform GPU ID 0, defaulting to 0. Your kernel may not have been built with NUMA support.\n",
      "2022-04-20 17:37:03.408746: I tensorflow/core/common_runtime/pluggable_device/pluggable_device_factory.cc:271] Created TensorFlow device (/job:localhost/replica:0/task:0/device:GPU:0 with 0 MB memory) -> physical PluggableDevice (device: 0, name: METAL, pci bus id: <undefined>)\n"
     ]
    }
   ],
   "source": [
    "\n",
    "model_1 = models.Sequential()\n",
    "model_1.add(layers.Conv2D(32, 3, activation='relu',input_shape=input_shape))\n",
    "model_1.add(layers.Dense(49, activation='relu'))\n",
    "model_1.add(layers.MaxPooling2D(pool_size=(2, 2)))"
   ]
  },
  {
   "cell_type": "code",
   "execution_count": 6,
   "metadata": {},
   "outputs": [
    {
     "name": "stdout",
     "output_type": "stream",
     "text": [
      "Model: \"sequential\"\n",
      "_________________________________________________________________\n",
      " Layer (type)                Output Shape              Param #   \n",
      "=================================================================\n",
      " conv2d (Conv2D)             (None, 26, 26, 32)        320       \n",
      "                                                                 \n",
      " dense (Dense)               (None, 26, 26, 49)        1617      \n",
      "                                                                 \n",
      " max_pooling2d (MaxPooling2D  (None, 13, 13, 49)       0         \n",
      " )                                                               \n",
      "                                                                 \n",
      "=================================================================\n",
      "Total params: 1,937\n",
      "Trainable params: 1,937\n",
      "Non-trainable params: 0\n",
      "_________________________________________________________________\n"
     ]
    }
   ],
   "source": [
    "model_1.summary()"
   ]
  },
  {
   "cell_type": "code",
   "execution_count": 7,
   "metadata": {},
   "outputs": [],
   "source": [
    "model_1.add(layers.Flatten())\n",
    "model_1.add(layers.Dense(64, activation='relu'))\n",
    "model_1.add(layers.Dense(49))\n",
    "model_1.add(layers.Dense(49, activation='softmax'))"
   ]
  },
  {
   "cell_type": "code",
   "execution_count": 8,
   "metadata": {},
   "outputs": [
    {
     "name": "stdout",
     "output_type": "stream",
     "text": [
      "Model: \"sequential\"\n",
      "_________________________________________________________________\n",
      " Layer (type)                Output Shape              Param #   \n",
      "=================================================================\n",
      " conv2d (Conv2D)             (None, 26, 26, 32)        320       \n",
      "                                                                 \n",
      " dense (Dense)               (None, 26, 26, 49)        1617      \n",
      "                                                                 \n",
      " max_pooling2d (MaxPooling2D  (None, 13, 13, 49)       0         \n",
      " )                                                               \n",
      "                                                                 \n",
      " flatten (Flatten)           (None, 8281)              0         \n",
      "                                                                 \n",
      " dense_1 (Dense)             (None, 64)                530048    \n",
      "                                                                 \n",
      " dense_2 (Dense)             (None, 49)                3185      \n",
      "                                                                 \n",
      " dense_3 (Dense)             (None, 49)                2450      \n",
      "                                                                 \n",
      "=================================================================\n",
      "Total params: 537,620\n",
      "Trainable params: 537,620\n",
      "Non-trainable params: 0\n",
      "_________________________________________________________________\n"
     ]
    }
   ],
   "source": [
    "model_1.summary()"
   ]
  },
  {
   "cell_type": "code",
   "execution_count": 9,
   "metadata": {},
   "outputs": [
    {
     "name": "stdout",
     "output_type": "stream",
     "text": [
      "Epoch 1/2\n"
     ]
    },
    {
     "name": "stderr",
     "output_type": "stream",
     "text": [
      "2022-04-20 17:42:25.810835: W tensorflow/core/platform/profile_utils/cpu_utils.cc:128] Failed to get CPU frequency: 0 Hz\n"
     ]
    },
    {
     "name": "stdout",
     "output_type": "stream",
     "text": [
      "   1/7262 [..............................] - ETA: 56:25 - loss: 3.8831 - accuracy: 0.0312"
     ]
    },
    {
     "name": "stderr",
     "output_type": "stream",
     "text": [
      "2022-04-20 17:42:26.159552: I tensorflow/core/grappler/optimizers/custom_graph_optimizer_registry.cc:113] Plugin optimizer for device_type GPU is enabled.\n"
     ]
    },
    {
     "name": "stdout",
     "output_type": "stream",
     "text": [
      "7262/7262 [==============================] - ETA: 0s - loss: 0.5724 - accuracy: 0.8491"
     ]
    },
    {
     "name": "stderr",
     "output_type": "stream",
     "text": [
      "2022-04-20 17:44:12.831650: I tensorflow/core/grappler/optimizers/custom_graph_optimizer_registry.cc:113] Plugin optimizer for device_type GPU is enabled.\n"
     ]
    },
    {
     "name": "stdout",
     "output_type": "stream",
     "text": [
      "7262/7262 [==============================] - 115s 16ms/step - loss: 0.5724 - accuracy: 0.8491 - val_loss: 0.6634 - val_accuracy: 0.8271\n",
      "Epoch 2/2\n",
      "7262/7262 [==============================] - 112s 15ms/step - loss: 0.2730 - accuracy: 0.9249 - val_loss: 0.5612 - val_accuracy: 0.8603\n"
     ]
    }
   ],
   "source": [
    "model_1.compile(optimizer='adam',\n",
    "              loss=tf.keras.losses.categorical_crossentropy,\n",
    "              metrics=['accuracy'])\n",
    "\n",
    "history = model_1.fit(train_imgs_1, train_labels_1, epochs=2, \n",
    "                    validation_data=(test_imgs_1, test_labels_1))"
   ]
  },
  {
   "cell_type": "code",
   "execution_count": 10,
   "metadata": {},
   "outputs": [
    {
     "name": "stdout",
     "output_type": "stream",
     "text": [
      "1205/1205 - 8s - loss: 0.5612 - accuracy: 0.8603 - 8s/epoch - 7ms/step\n"
     ]
    },
    {
     "data": {
      "image/png": "[encoded data removed]",
      "text/plain": [
       "<Figure size 432x288 with 1 Axes>"
      ]
     },
     "metadata": {
      "needs_background": "light"
     },
     "output_type": "display_data"
    }
   ],
   "source": [
    "plt.plot(history.history['accuracy'], label='accuracy')\n",
    "plt.plot(history.history['val_accuracy'], label = 'val_accuracy')\n",
    "plt.xlabel('Epoch')\n",
    "plt.ylabel('Accuracy')\n",
    "plt.ylim([0.5, 1])\n",
    "plt.legend(loc='lower right')\n",
    "\n",
    "test_loss_1, test_acc_1 = model_1.evaluate(test_imgs_1, test_labels_1, verbose=2)"
   ]
  },
  {
   "cell_type": "code",
   "execution_count": 15,
   "metadata": {},
   "outputs": [
    {
     "name": "stderr",
     "output_type": "stream",
     "text": [
      "2022-04-21 10:32:00.523306: I tensorflow/core/grappler/optimizers/custom_graph_optimizer_registry.cc:113] Plugin optimizer for device_type GPU is enabled.\n"
     ]
    },
    {
     "data": {
      "text/plain": [
       "array([[5.8861547e-06, 1.1713848e-03, 5.0504814e-04, ..., 9.1631694e-07,\n",
       "        1.0855213e-03, 8.2215989e-01],\n",
       "       [5.8833666e-06, 1.1719730e-03, 5.0468853e-04, ..., 9.1574492e-07,\n",
       "        1.0865215e-03, 8.2209325e-01],\n",
       "       [5.8757105e-06, 1.1710539e-03, 5.0469319e-04, ..., 9.1401051e-07,\n",
       "        1.0847957e-03, 8.2209551e-01],\n",
       "       ...,\n",
       "       [5.8828773e-06, 1.1715571e-03, 5.0455611e-04, ..., 9.1622087e-07,\n",
       "        1.0858229e-03, 8.2209003e-01],\n",
       "       [5.8458513e-06, 1.1673153e-03, 5.0305575e-04, ..., 9.0770209e-07,\n",
       "        1.0815284e-03, 8.2232201e-01],\n",
       "       [5.8565215e-06, 1.1687736e-03, 5.0374976e-04, ..., 9.1063782e-07,\n",
       "        1.0830821e-03, 8.2224303e-01]], dtype=float32)"
      ]
     },
     "execution_count": 15,
     "metadata": {},
     "output_type": "execute_result"
    }
   ],
   "source": [
    "#with open('trained_classifier.pickle', 'wb') as f:\n",
    "#    pickle.dump(model_1, f)\n",
    "\n",
    "k49_trained_model = pickle.load(open('trained_classifier.pickle', 'rb'))\n",
    "k49_trained_model.predict(test_imgs_1)\n"
   ]
  },
  {
   "cell_type": "code",
   "execution_count": 23,
   "metadata": {},
   "outputs": [
    {
     "name": "stdout",
     "output_type": "stream",
     "text": [
      "{'loss': [0.5724263787269592, 0.2729821503162384], 'accuracy': [0.8491167426109314, 0.9249327778816223], 'val_loss': [0.663377583026886, 0.5611956119537354], 'val_accuracy': [0.8270682692527771, 0.8602744936943054]}\n"
     ]
    }
   ],
   "source": [
    "##Below is the data from one of the first tests\n",
    "\n",
    "#history.history variable from model_1\n",
    "\n",
    "dict_results = open('classifierresults_1.pickle', 'rb')\n",
    "results = pickle.load(dict_results)\n",
    "print(results)"
   ]
  },
  {
   "cell_type": "code",
   "execution_count": 23,
   "metadata": {},
   "outputs": [
    {
     "name": "stdout",
     "output_type": "stream",
     "text": [
      "(1, 49)\n",
      "[[0. 0. 0. 0. 0. 0. 0. 0. 0. 0. 0. 0. 0. 0. 0. 0. 0. 0. 0. 0. 0. 0. 0. 0.\n",
      "  0. 0. 0. 0. 0. 0. 0. 0. 0. 0. 0. 0. 0. 0. 0. 0. 0. 0. 0. 0. 0. 0. 0. 0.\n",
      "  1.]]\n"
     ]
    }
   ],
   "source": [
    "## Loading handwritten image and using transfer learning to predict the outcome\n",
    "## of image on trained model\n",
    "\n",
    "handwritten_img = Image.open('ku.jpg')\n",
    "handwritten_img = np.resize(handwritten_img, (28,28,1))\n",
    "img_to_arr = np.array(handwritten_img)\n",
    "img_to_arr = img_to_arr.reshape(1,28,28,1)\n",
    "handwritten_pred = k49_trained_model.predict(img_to_arr)\n",
    "print(handwritten_pred.shape)\n",
    "print(handwritten_pred)"
   ]
  },
  {
   "cell_type": "code",
   "execution_count": null,
   "metadata": {},
   "outputs": [],
   "source": []
  }
 ],
 "metadata": {
  "interpreter": {
   "hash": "64c120a508f6324c92d6f1d97e909913af50a4f06219c1d418241b2f1bcce404"
  },
  "kernelspec": {
   "display_name": "Python 3.8.13 ('tensorflow')",
   "language": "python",
   "name": "python3"
  },
  "language_info": {
   "codemirror_mode": {
    "name": "ipython",
    "version": 3
   },
   "file_extension": ".py",
   "mimetype": "text/x-python",
   "name": "python",
   "nbconvert_exporter": "python",
   "pygments_lexer": "ipython3",
   "version": "3.8.13"
  },
  "orig_nbformat": 4
 },
 "nbformat": 4,
 "nbformat_minor": 2
}
